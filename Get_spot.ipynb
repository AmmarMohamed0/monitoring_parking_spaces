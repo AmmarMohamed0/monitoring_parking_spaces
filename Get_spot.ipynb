{
 "cells": [
  {
   "cell_type": "code",
   "execution_count": 7,
   "id": "550e271b-bbe2-4c3e-8938-7cd2f74d3d7a",
   "metadata": {},
   "outputs": [
    {
     "name": "stdin",
     "output_type": "stream",
     "text": [
      "areaName:  1\n",
      "areaName:  2\n",
      "areaName:  4\n",
      "areaName:  3\n",
      "areaName:  5\n",
      "areaName:  6\n",
      "areaName:  7\n"
     ]
    }
   ],
   "source": [
    "import cv2\n",
    "import numpy as np\n",
    "import pickle\n",
    "import cvzone\n",
    "\n",
    "# some variable will use\n",
    "drawing = False\n",
    "areaName = []\n",
    "points = []\n",
    "current_name = \" \"\n",
    "\n",
    "# read video \n",
    "cap = cv2.VideoCapture(\"ParkWatch.mp4\")\n",
    "\n",
    "# If we have an area point saved we will upload it.\n",
    "try:\n",
    "    with open(\"points_and_names_of_area\", \"rb\") as file:\n",
    "        data = pickle.load(file)\n",
    "        polylines, areaName = data['polylines'], data['areaName']\n",
    "except FileNotFoundError:\n",
    "    polylines = []\n",
    "\n",
    "\n",
    "# Function to draw area by mouse \n",
    "def draw(event, x, y, flags, parm):\n",
    "    global points, drawing\n",
    "    if event == cv2.EVENT_LBUTTONDOWN:\n",
    "        drawing = True\n",
    "        points = [(x, y)]\n",
    "    elif event == cv2.EVENT_MOUSEMOVE:\n",
    "        if drawing: # means if drawning == True:\n",
    "            points.append((x, y))\n",
    "    elif event == cv2.EVENT_LBUTTONUP:\n",
    "        drawing = False\n",
    "        current_name = input(\"areaName: \")\n",
    "        if current_name:\n",
    "            areaName.append(current_name)\n",
    "            polylines.append(np.array(points, np.int32))\n",
    "\n",
    "# reads frames from a video \n",
    "while True:\n",
    "    ret, frame = cap.read()\n",
    "    if not ret:\n",
    "        cap.set(cv2.CAP_PROP_POS_FRAMES, 0)\n",
    "        continue\n",
    "    frame = cv2.resize(frame, (1200, 700))\n",
    "    # draw polylines \n",
    "    for i, polyline in enumerate(polylines):\n",
    "        cv2.polylines(frame, [polyline], True, (0, 0, 255), 2)\n",
    "        cvzone.putTextRect(frame, f'{areaName[i]}', tuple(polyline[0]), 1, 1)  # tuple-> take first index means draw in top left\n",
    "\n",
    "    cv2.imshow('FRAME', frame)\n",
    "    cv2.setMouseCallback('FRAME', draw)\n",
    "\n",
    "    key = cv2.waitKey(60) & 0xff\n",
    "\n",
    "    if key == ord('s'):\n",
    "        with open(\"points_and_names_of_area\", \"wb\") as file:\n",
    "            data = {'polylines': polylines, 'areaName': areaName}\n",
    "            pickle.dump(data, file)\n",
    "        break\n",
    "\n",
    "    if key == ord('q'):\n",
    "        break\n",
    "\n",
    "cap.release()\n",
    "cv2.destroyAllWindows()"
   ]
  },
  {
   "cell_type": "code",
   "execution_count": null,
   "id": "5d11760a-023f-4c0c-9913-33a2421d7a8e",
   "metadata": {},
   "outputs": [],
   "source": []
  }
 ],
 "metadata": {
  "kernelspec": {
   "display_name": "Python 3 (ipykernel)",
   "language": "python",
   "name": "python3"
  },
  "language_info": {
   "codemirror_mode": {
    "name": "ipython",
    "version": 3
   },
   "file_extension": ".py",
   "mimetype": "text/x-python",
   "name": "python",
   "nbconvert_exporter": "python",
   "pygments_lexer": "ipython3",
   "version": "3.11.5"
  }
 },
 "nbformat": 4,
 "nbformat_minor": 5
}
